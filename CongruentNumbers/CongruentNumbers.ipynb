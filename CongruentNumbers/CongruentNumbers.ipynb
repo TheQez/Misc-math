{
 "cells": [
  {
   "cell_type": "code",
   "execution_count": null,
   "metadata": {},
   "outputs": [],
   "source": [
    "def primeFactorise(num):\n",
    "    factors = {}\n",
    "    i = 2\n",
    "    while i <= num:\n",
    "        if num % i == 0:\n",
    "            if i not in factors:\n",
    "                factors[i] = 0 \n",
    "            factors[i] += 1\n",
    "            num /= i \n",
    "        else:\n",
    "            i += 1 \n",
    "    return factors\n",
    "  \n",
    "def squarefreeise(num):\n",
    "    squarefreeNum = 1\n",
    "    factors = primeFactorise(num)\n",
    "    for prime in factors:\n",
    "        if factors[prime] % 2 == 1:\n",
    "            squarefreeNum *= prime\n",
    "    return squarefreeNum\n",
    "  \n",
    "def quadFormNumSols(a, b, c, n): #Find the number of solutions in integers to ax^2 + by^2 + cz^2 = n\n",
    "    count = 0\n",
    "    for i in range(-math.floor(math.sqrt(n)), math.floor(math.sqrt(n))+1):\n",
    "        for j in range(-math.floor(math.sqrt(n)), math.floor(math.sqrt(n))+1):\n",
    "            for k in range(-math.floor(math.sqrt(n)), math.floor(math.sqrt(n))+1):\n",
    "                if a*i**2 + b*j**2 + c*k**2 == n:\n",
    "                    count += 1\n",
    "    return count\n",
    "\n",
    "def tunnellTest(n):\n",
    "    n = squarefreeise(n)\n",
    "    if n % 2 == 0:\n",
    "        if 2*quadFormNumSols(8, 2, 64, n) == quadFormNumSols(8, 2, 16, n):\n",
    "            return True\n",
    "        else:\n",
    "            return False\n",
    "    else:\n",
    "        if 2*quadFormNumSols(2, 1, 32, n) == quadFormNumSols(2, 1, 8, n):\n",
    "            return True\n",
    "        else:\n",
    "            return False"
   ]
  },
  {
   "cell_type": "code",
   "execution_count": null,
   "metadata": {},
   "outputs": [],
   "source": [
    "def getTriangleDimensions(n):\n",
    "    E = EllipticCurve([-n^2, 0])\n",
    "    P = E.gens(descent_second_limit=12, only_use_mwrank=True, rank1_search=10)[0]\n",
    "    a = abs((P[0]^2 - n^2)/P[1])\n",
    "    b = abs((2*n*P[0])/P[1])\n",
    "    c = abs((P[0]^2 + n^2)/P[1])\n",
    "    return a, b, c"
   ]
  },
  {
   "cell_type": "code",
   "execution_count": null,
   "metadata": {},
   "outputs": [],
   "source": [
    "failedNums = []\n",
    "for i in range(1, 1001):\n",
    "    conditionallyIsCongruent = tunnellTest(i)\n",
    "    if not conditionallyIsCongruent:\n",
    "        print(str(i) + ': x')\n",
    "    else:\n",
    "        try:\n",
    "            squareFree = squarefreeise(i)\n",
    "            a, b, c = tuple([sqrt(i/squareFree)*x for x in getTriangleDimensions(squareFree)])\n",
    "            if not (a**2 + b**2 == c**2 and a*b == 2*i):\n",
    "                raise ArithmeticError('Values for a, b, c do not form desired rational triangle')\n",
    "            print(str(i) + ': ' + str(a) + ', ' + str(b))\n",
    "        except RuntimeError:\n",
    "            print(str(i) + ': Too computationally expensive')\n",
    "            failedNums.append(i)\n",
    "\n",
    "print('Failed on:')\n",
    "for num in failedNums: \n",
    "    print(num)"
   ]
  },
  {
   "cell_type": "markdown",
   "metadata": {},
   "source": [
    "This successfully verified each number between 1 and 1000 as being congruent or not, with the exceptions of:\n",
    "\n",
    "With second limit 12: 157, 269, 277, 293, 367, 373, 389, 438, 461, 503, 541, 599, 607, 613, 628, 647, 653, 661, 677, 701, 727, 733, 743, 757, 758, 773, 797, 823, 829, 838, 853, 877, 887, 911, 941, 959, 982, 983, 997, 998\n",
    "\n",
    "With second limit 13: 277, 293, 367, 373, 389, 438, 461, 607, 613, 647, 653, 661, 677, 701, 727, 733, 743, 757, 758, 773, 797, 823, 829, 838, 853, 877, 887, 911, 941, 959, 982, 983, 997, 998\n",
    "\n",
    "With second limit 14: 277, 373, 389, 438, 607, 613, 647, 653, 661, 677, 701, 727, 733, 743, 757, 758, 773, 797, 823, 829, 853, 877, 887, 911, 941, 959, 982, 983, 997, 998\n",
    "\n",
    "With second limit 15: 277, 373, 389, 438, 607, 613, 647, 653, 661, 677, 701, 727, 733, 743, 757, 758, 773, 797, 823, 829, 853, 877, 887, 959, 982, 983, 997, 998\n",
    "\n",
    "Using rank1_search allowed verification of 438 also\n",
    "\n",
    "Example outputs:\n",
    "\n",
    "911: 40294245257278722681073363754739177129016784089420837029383/10294230247406194889623327861926923983410247399539980031840, 20588460494812389779246655723853847966820494799079960063680/44230785134224723030815986558440370064782419417585990153\n",
    "\n",
    "941: 2777332858111868198760198239620/5639486650248149942655297021, 5639486650248149942655297021/1475734781143394367035174410"
   ]
  }
 ],
 "metadata": {
  "kernelspec": {
   "display_name": "SageMath 9.3",
   "language": "sage",
   "name": "sagemath-9.3"
  },
  "language_info": {
   "codemirror_mode": {
    "name": "ipython",
    "version": 3
   },
   "file_extension": ".py",
   "mimetype": "text/x-python",
   "name": "python",
   "nbconvert_exporter": "python",
   "pygments_lexer": "ipython3",
   "version": "3.9.2"
  }
 },
 "nbformat": 4,
 "nbformat_minor": 4
}
